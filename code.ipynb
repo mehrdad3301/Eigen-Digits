{
 "cells": [
  {
   "cell_type": "code",
   "execution_count": null,
   "id": "d4e24c1e",
   "metadata": {},
   "outputs": [],
   "source": [
    "from keras.datasets import mnist\n",
    "import matplotlib.pyplot as plt\n",
    "import seaborn as sns ; sns.set()\n",
    "from sklearn import metrics \n",
    "import numpy as np \n",
    "from numpy.linalg import svd, norm\n",
    "from tqdm import tqdm "
   ]
  },
  {
   "cell_type": "markdown",
   "id": "f5563c0d",
   "metadata": {},
   "source": [
    "Fig 1"
   ]
  },
  {
   "cell_type": "code",
   "execution_count": null,
   "id": "9f4110b7",
   "metadata": {},
   "outputs": [],
   "source": [
    "A = np.random.randint(0, 10, (100))\n",
    "print(\"rank A: \", 1)\n",
    "A_1 = A + np.random.normal(0, 0.01, (100, 100))\n",
    "print(\"rank A after noise: \", np.linalg.matrix_rank(A_1))\n",
    "ax = plt.gca()\n",
    "ax.set_yscale('log')\n",
    "_,e,_ = svd(A_1)\n",
    "n = e.shape[0]\n",
    "ax.scatter(np.arange(n), e, 5.0);"
   ]
  },
  {
   "cell_type": "code",
   "execution_count": null,
   "id": "ab6be272",
   "metadata": {},
   "outputs": [],
   "source": [
    "M = 28 * 28\n",
    "N = 28\n",
    "K = 10"
   ]
  },
  {
   "cell_type": "code",
   "execution_count": null,
   "id": "af8a4143",
   "metadata": {},
   "outputs": [],
   "source": [
    "(train_x , train_y), (test_x, test_y) = mnist.load_data()\n",
    "train_x, test_x = train_x.reshape(-1, M), test_x.reshape(-1, M)"
   ]
  },
  {
   "cell_type": "markdown",
   "id": "f323d56c",
   "metadata": {},
   "source": [
    "Fig 2"
   ]
  },
  {
   "cell_type": "code",
   "execution_count": null,
   "id": "ff6d3c02",
   "metadata": {
    "scrolled": true
   },
   "outputs": [],
   "source": [
    "from matplotlib.gridspec import GridSpec\n",
    "pics = train_x[np.random.choice(train_x.shape[0], 6)]\n",
    "\n",
    "def format_axes(fig):\n",
    "    for i, ax in enumerate(fig.axes):\n",
    "        ax.imshow(pics[i].reshape(N, N), cmap='gray')\n",
    "        ax.tick_params(labelbottom=False, labelleft=False)\n",
    "\n",
    "fig = plt.figure(constrained_layout=True)\n",
    "fig.set_size_inches(5, 5)\n",
    "\n",
    "gs = GridSpec(3, 3, figure=fig)\n",
    "ax1 = fig.add_subplot(gs[:2, :2])\n",
    "ax2 = fig.add_subplot(gs[0, 2])\n",
    "ax3 = fig.add_subplot(gs[1, 2])\n",
    "ax4 = fig.add_subplot(gs[2, 2])\n",
    "ax5 = fig.add_subplot(gs[2, 0])\n",
    "ax6 = fig.add_subplot(gs[2, 1])\n",
    "\n",
    "format_axes(fig)\n",
    "plt.show()"
   ]
  },
  {
   "cell_type": "markdown",
   "id": "f00f5f84",
   "metadata": {},
   "source": [
    "Fig 3"
   ]
  },
  {
   "cell_type": "code",
   "execution_count": null,
   "id": "d5cc8003",
   "metadata": {},
   "outputs": [],
   "source": [
    "fig, ax = plt.subplots(2, 5, sharey=True)\n",
    "fig.set_size_inches(5, 2)\n",
    "fig.subplots_adjust(wspace=0, hspace=0)\n",
    "\n",
    "means = np.zeros(shape=(10, M))\n",
    "for i in range(10) : \n",
    "    t = train_x[train_y == i]\n",
    "    means[i] = np.mean(t, axis=0)\n",
    "    a = ax[i//5, i%5]\n",
    "    a.imshow(means[i].reshape(N, N), cmap='gray')\n",
    "    a.tick_params(labelbottom=False, labelleft=False)\n",
    "    a.set_xticklabels([])\n",
    "    a.set_yticklabels([])"
   ]
  },
  {
   "cell_type": "code",
   "execution_count": null,
   "id": "d3e61b97",
   "metadata": {},
   "outputs": [],
   "source": [
    "# computing clustering accuracy\n",
    "pred = np.argmin(norm(means - test_x.reshape(-1, 1 , M), 2, axis=2), axis=1)\n",
    "print( \"accuracy: \", test_accuracy(pred) , \"%\" )"
   ]
  },
  {
   "cell_type": "code",
   "execution_count": null,
   "id": "39fdfdd5",
   "metadata": {},
   "outputs": [],
   "source": [
    "bases = np.zeros(shape=(10, M, M)) \n",
    "for i in range(10) :\n",
    "    t = train_x[train_y == i].T\n",
    "    u, _, _ = svd(t, full_matrices=False)\n",
    "    bases[i] = u"
   ]
  },
  {
   "cell_type": "code",
   "execution_count": null,
   "id": "1e16bac8",
   "metadata": {},
   "outputs": [],
   "source": [
    "fig, ax = plt.subplots(10, 10, sharex=True, sharey=True)\n",
    "fig.set_size_inches(20, 20)\n",
    "fig.subplots_adjust(wspace=0, hspace=0)\n",
    "for i in range(10) :\n",
    "    for j in range(K) : \n",
    "        ax[i, j].imshow(bases[i][:, j].reshape(N, N), cmap='gray')\n",
    "        ax[i, j].tick_params(labelbottom=False, labelleft=False)"
   ]
  },
  {
   "cell_type": "markdown",
   "id": "aa21271f",
   "metadata": {},
   "source": [
    "Fig 4"
   ]
  },
  {
   "cell_type": "code",
   "execution_count": null,
   "id": "a9bd0047",
   "metadata": {},
   "outputs": [],
   "source": [
    "fig, ax = plt.subplots(2, 3, sharex=True, sharey=True)\n",
    "fig.set_size_inches(3, 2)\n",
    "fig.subplots_adjust(wspace=0, hspace=0)\n",
    "for i, v in enumerate([3,6]):\n",
    "    for j in range(3) : \n",
    "        ax[i, j].imshow(bases[v][:, j].reshape(N, N), cmap='gray')\n",
    "        ax[i, j].tick_params(labelbottom=False, labelleft=False)\n",
    "        ax[i, j].set_xticklabels([])\n",
    "        ax[i, j].set_yticklabels([])"
   ]
  },
  {
   "cell_type": "markdown",
   "id": "c1ea9035",
   "metadata": {},
   "source": [
    "Fig 5"
   ]
  },
  {
   "cell_type": "code",
   "execution_count": null,
   "id": "e8083b40",
   "metadata": {},
   "outputs": [],
   "source": [
    "fig, ax = plt.subplots(1, 2)\n",
    "fig.set_size_inches(20, 7)\n",
    "for i, d in enumerate([3, 7]) : \n",
    "    res = residual(num_bases=10, digit=d)\n",
    "    ax[i].plot(res.T)\n",
    "    ax[i].set_xticks(np.arange(10));\n",
    "    ax[i].set_xlabel(\"base\")\n",
    "    ax[i].set_ylabel(\"residual\")"
   ]
  },
  {
   "cell_type": "markdown",
   "id": "a34d1a4f",
   "metadata": {},
   "source": [
    "Fig 6"
   ]
  },
  {
   "cell_type": "code",
   "execution_count": 1,
   "id": "6d011947",
   "metadata": {},
   "outputs": [],
   "source": [
    "z = train_x[train_y == 3][0]\n",
    "plt.imshow(z.reshape(N, N), cmap='gray')"
   ]
  },
  {
   "cell_type": "code",
   "execution_count": null,
   "id": "226cd6c9",
   "metadata": {},
   "outputs": [],
   "source": [
    "fig, ax = plt.subplots(1, 6, sharex=True, sharey=True)\n",
    "fig.subplots_adjust(wspace=0, hspace=0)\n",
    "\n",
    "u = bases[5]\n",
    "for i, j in enumerate([3, 10, 50, 125, 250, 500]) :\n",
    "    u_k = u[:, :j] \n",
    "    a = u_k.T @ z \n",
    "    ax[i].imshow((u_k @ a).reshape(N, N), cmap='gray') \n",
    "    ax[i].set_xlabel(f'k={j}')\n",
    "    ax[i].set_xticklabels([])\n",
    "    ax[i].set_yticklabels([])"
   ]
  },
  {
   "cell_type": "markdown",
   "id": "9b6f5483",
   "metadata": {},
   "source": [
    "Fig 7"
   ]
  },
  {
   "cell_type": "code",
   "execution_count": null,
   "id": "75fc1b98",
   "metadata": {},
   "outputs": [],
   "source": [
    "z = train_x[train_y == 4][0]\n",
    "plt.imshow(z.reshape(N, N), cmap='gray')"
   ]
  },
  {
   "cell_type": "code",
   "execution_count": null,
   "id": "2bb9f496",
   "metadata": {},
   "outputs": [],
   "source": [
    "fig, ax = plt.subplots(1, 6, sharex=True, sharey=True)\n",
    "fig.subplots_adjust(wspace=0, hspace=0)\n",
    "\n",
    "u = bases[4]\n",
    "for i, j in enumerate([3, 10, 125, 250, 500, 784]) :\n",
    "    u_k = u[:, :j] \n",
    "    a = u_k.T @ z \n",
    "    ax[i].imshow((u_k @ a).reshape(N, N), cmap='gray') \n",
    "    ax[i].set_xlabel(f'k={j}')\n",
    "    ax[i].set_xticklabels([])\n",
    "    ax[i].set_yticklabels([])"
   ]
  },
  {
   "cell_type": "markdown",
   "id": "1ef88944",
   "metadata": {},
   "source": [
    "Fig 8"
   ]
  },
  {
   "cell_type": "code",
   "execution_count": null,
   "id": "2a6063d5",
   "metadata": {},
   "outputs": [],
   "source": [
    "fig, ax = plt.subplots(1, 2)\n",
    "fig.set_size_inches(15, 5)\n",
    "ax[0].plot(np.cumsum(e) / np.sum(e) * 100)\n",
    "ax[0].set_ylabel(\"explained variance\")\n",
    "ax[1].set_yscale('log')\n",
    "ax[1].set_ylabel(\"eigen value\")\n",
    "ax[1].plot(np.arange(len(e)), e)"
   ]
  },
  {
   "cell_type": "code",
   "execution_count": null,
   "id": "b6aeccaf",
   "metadata": {},
   "outputs": [],
   "source": [
    "history = []\n",
    "b = [1, 2, 3, 4, 5, 6, 7, 8, 9, 10] + [20, 30, 40, 50] + [100, 300, 500]\n",
    "for K in tqdm(b) :\n",
    "    res = residual(num_bases=K)\n",
    "    y = np.argmin(res, axis=1).reshape(-1)\n",
    "    history += [test_accuracy(y)]"
   ]
  },
  {
   "cell_type": "code",
   "execution_count": null,
   "id": "2f91bbc7",
   "metadata": {},
   "outputs": [],
   "source": [
    "plt.xticks(np.arange(len(b)), labels=b)\n",
    "plt.plot(history, 'bx--');\n",
    "plt.xlabel(\"number of bases (k)\")\n",
    "plt.ylabel(\"accuracy\")"
   ]
  },
  {
   "cell_type": "markdown",
   "id": "6407489a",
   "metadata": {},
   "source": [
    "Fig 9"
   ]
  },
  {
   "cell_type": "code",
   "execution_count": null,
   "id": "97ba2b35",
   "metadata": {},
   "outputs": [],
   "source": [
    "history = []\n",
    "b = [1, 2, 3, 4, 5, 6, 7, 8, 9, 10] + [20, 30, 40, 50] + [100, 300, 500]\n",
    "for K in tqdm([500, 784]) :\n",
    "    res = residual(num_bases=K)\n",
    "    y = np.argmin(res, axis=1).reshape(-1)\n",
    "    history += [test_accuracy(y)]"
   ]
  },
  {
   "cell_type": "code",
   "execution_count": null,
   "id": "0a370935",
   "metadata": {},
   "outputs": [],
   "source": [
    "plt.xticks(np.arange(len(b)), b)\n",
    "plt.plot(history, 'bx--');"
   ]
  },
  {
   "cell_type": "markdown",
   "id": "f1dc9d8e",
   "metadata": {},
   "source": [
    "Fig 10"
   ]
  },
  {
   "cell_type": "code",
   "execution_count": null,
   "id": "890b4d0b",
   "metadata": {},
   "outputs": [],
   "source": [
    "fig, ax = plt.subplots(1, 2)\n",
    "fig.set_size_inches(10, 7)\n",
    "for i, b in enumerate([50, 100]) :\n",
    "    ax[i].imshow(bases[4][:, b].reshape(N, N), cmap=\"gray\") ; \n",
    "    ax[i].set_xlabel(f'k={b}')\n",
    "    ax[i].set_xticklabels([])\n",
    "    ax[i].set_yticklabels([])"
   ]
  },
  {
   "cell_type": "markdown",
   "id": "ee292bd2",
   "metadata": {},
   "source": [
    "Fig 11"
   ]
  },
  {
   "cell_type": "code",
   "execution_count": null,
   "id": "55310054",
   "metadata": {},
   "outputs": [],
   "source": [
    "res = residual(num_bases=30)\n",
    "y = np.argmin(res, axis=1).reshape(-1)\n",
    "z = metrics.confusion_matrix(test_y, y, normalize='true')\n",
    "sns.heatmap(z, annot=True)\n",
    "plt.rcParams[\"figure.figsize\"] = (10, 5)\n",
    "plt.xlabel(\"predictions\")\n",
    "plt.ylabel(\"true values\")\n",
    "plt.show()"
   ]
  },
  {
   "cell_type": "code",
   "execution_count": null,
   "id": "f62d45a3",
   "metadata": {},
   "outputs": [],
   "source": [
    "def test_accuracy(y) : \n",
    "    return np.sum(y == test_y) / len(test_y) * 100"
   ]
  },
  {
   "cell_type": "code",
   "execution_count": null,
   "id": "5c069cbf",
   "metadata": {},
   "outputs": [],
   "source": [
    "def residual(num_bases, digit=None) : \n",
    "    \"\"\"\n",
    "    get_residual returns residual given by :\n",
    "                    min || z - u @ a || / ||z||\n",
    "    where `z` is the target vector, `u` is the basis which is \n",
    "    used to estimate `z`, and `a` are multipliers. \n",
    "    ---------------\n",
    "    parameters :\n",
    "        num_bases : number of bases used to approximate m by n \n",
    "                    matrix A in SVD decomposition. \n",
    "        digit : use only digits equal to digit in test set if \n",
    "                specified, default None\n",
    "    \"\"\"\n",
    "    u = bases[:, :, :num_bases]\n",
    "    z = test_x if (digit == None) else test_x[test_y == digit] \n",
    "    z = z.reshape(-1, 1, M, 1)\n",
    "    res = (np.eye(M) - u @ np.transpose(u, (0, 2, 1))) @ z\n",
    "    res = norm(res, 2, axis=2) / norm(z, 2, axis=2)\n",
    "    res = res.reshape(-1, 10)\n",
    "    return res"
   ]
  }
 ],
 "metadata": {
  "kernelspec": {
   "display_name": "Python 3 (ipykernel)",
   "language": "python",
   "name": "python3"
  },
  "language_info": {
   "codemirror_mode": {
    "name": "ipython",
    "version": 3
   },
   "file_extension": ".py",
   "mimetype": "text/x-python",
   "name": "python",
   "nbconvert_exporter": "python",
   "pygments_lexer": "ipython3",
   "version": "3.8.10"
  }
 },
 "nbformat": 4,
 "nbformat_minor": 5
}
